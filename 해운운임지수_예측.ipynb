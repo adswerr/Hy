{
  "nbformat": 4,
  "nbformat_minor": 0,
  "metadata": {
    "colab": {
      "name": "해운운임지수 예측.ipynb",
      "provenance": [],
      "collapsed_sections": []
    },
    "kernelspec": {
      "name": "python3",
      "display_name": "Python 3"
    }
  },
  "cells": [
    {
      "cell_type": "code",
      "metadata": {
        "colab": {
          "base_uri": "https://localhost:8080/"
        },
        "id": "sFEa_dXpa6Bi",
        "outputId": "aa3f27ae-2ddf-4d03-bfd3-781575ddcd5a"
      },
      "source": [
        "import numpy as np\n",
        "import matplotlib.pyplot as plt\n",
        "import pandas as pd\n",
        "import torch\n",
        "import torch.nn as nn\n",
        "from torch.autograd import Variable\n",
        "from sklearn.preprocessing import MinMaxScaler\n",
        "from google.colab import drive\n",
        "drive.mount('/content/gdriv')"
      ],
      "execution_count": 1,
      "outputs": [
        {
          "output_type": "stream",
          "name": "stdout",
          "text": [
            "Mounted at /content/gdriv\n"
          ]
        }
      ]
    },
    {
      "cell_type": "code",
      "metadata": {
        "colab": {
          "base_uri": "https://localhost:8080/",
          "height": 206
        },
        "id": "8_As6WktcyNi",
        "outputId": "c9dc6a3e-e64d-469f-c387-407e6bb83a10"
      },
      "source": [
        "data_path = '/content/gdriv/My Drive/Colab Notebooks'\n",
        "BCI = pd.read_csv(data_path+'/Data/BCI.csv')\n",
        "BCI.head()"
      ],
      "execution_count": 2,
      "outputs": [
        {
          "output_type": "execute_result",
          "data": {
            "text/html": [
              "\n",
              "  <div id=\"df-e6ff6de2-b271-4aa9-9a62-586b7fe2c7dd\">\n",
              "    <div class=\"colab-df-container\">\n",
              "      <div>\n",
              "<style scoped>\n",
              "    .dataframe tbody tr th:only-of-type {\n",
              "        vertical-align: middle;\n",
              "    }\n",
              "\n",
              "    .dataframe tbody tr th {\n",
              "        vertical-align: top;\n",
              "    }\n",
              "\n",
              "    .dataframe thead th {\n",
              "        text-align: right;\n",
              "    }\n",
              "</style>\n",
              "<table border=\"1\" class=\"dataframe\">\n",
              "  <thead>\n",
              "    <tr style=\"text-align: right;\">\n",
              "      <th></th>\n",
              "      <th>date</th>\n",
              "      <th>BCI</th>\n",
              "    </tr>\n",
              "  </thead>\n",
              "  <tbody>\n",
              "    <tr>\n",
              "      <th>0</th>\n",
              "      <td>1999-Mar-01</td>\n",
              "      <td>1000</td>\n",
              "    </tr>\n",
              "    <tr>\n",
              "      <th>1</th>\n",
              "      <td>1999-Mar-02</td>\n",
              "      <td>1009</td>\n",
              "    </tr>\n",
              "    <tr>\n",
              "      <th>2</th>\n",
              "      <td>1999-Mar-03</td>\n",
              "      <td>1014</td>\n",
              "    </tr>\n",
              "    <tr>\n",
              "      <th>3</th>\n",
              "      <td>1999-Mar-04</td>\n",
              "      <td>1013</td>\n",
              "    </tr>\n",
              "    <tr>\n",
              "      <th>4</th>\n",
              "      <td>1999-Mar-05</td>\n",
              "      <td>1005</td>\n",
              "    </tr>\n",
              "  </tbody>\n",
              "</table>\n",
              "</div>\n",
              "      <button class=\"colab-df-convert\" onclick=\"convertToInteractive('df-e6ff6de2-b271-4aa9-9a62-586b7fe2c7dd')\"\n",
              "              title=\"Convert this dataframe to an interactive table.\"\n",
              "              style=\"display:none;\">\n",
              "        \n",
              "  <svg xmlns=\"http://www.w3.org/2000/svg\" height=\"24px\"viewBox=\"0 0 24 24\"\n",
              "       width=\"24px\">\n",
              "    <path d=\"M0 0h24v24H0V0z\" fill=\"none\"/>\n",
              "    <path d=\"M18.56 5.44l.94 2.06.94-2.06 2.06-.94-2.06-.94-.94-2.06-.94 2.06-2.06.94zm-11 1L8.5 8.5l.94-2.06 2.06-.94-2.06-.94L8.5 2.5l-.94 2.06-2.06.94zm10 10l.94 2.06.94-2.06 2.06-.94-2.06-.94-.94-2.06-.94 2.06-2.06.94z\"/><path d=\"M17.41 7.96l-1.37-1.37c-.4-.4-.92-.59-1.43-.59-.52 0-1.04.2-1.43.59L10.3 9.45l-7.72 7.72c-.78.78-.78 2.05 0 2.83L4 21.41c.39.39.9.59 1.41.59.51 0 1.02-.2 1.41-.59l7.78-7.78 2.81-2.81c.8-.78.8-2.07 0-2.86zM5.41 20L4 18.59l7.72-7.72 1.47 1.35L5.41 20z\"/>\n",
              "  </svg>\n",
              "      </button>\n",
              "      \n",
              "  <style>\n",
              "    .colab-df-container {\n",
              "      display:flex;\n",
              "      flex-wrap:wrap;\n",
              "      gap: 12px;\n",
              "    }\n",
              "\n",
              "    .colab-df-convert {\n",
              "      background-color: #E8F0FE;\n",
              "      border: none;\n",
              "      border-radius: 50%;\n",
              "      cursor: pointer;\n",
              "      display: none;\n",
              "      fill: #1967D2;\n",
              "      height: 32px;\n",
              "      padding: 0 0 0 0;\n",
              "      width: 32px;\n",
              "    }\n",
              "\n",
              "    .colab-df-convert:hover {\n",
              "      background-color: #E2EBFA;\n",
              "      box-shadow: 0px 1px 2px rgba(60, 64, 67, 0.3), 0px 1px 3px 1px rgba(60, 64, 67, 0.15);\n",
              "      fill: #174EA6;\n",
              "    }\n",
              "\n",
              "    [theme=dark] .colab-df-convert {\n",
              "      background-color: #3B4455;\n",
              "      fill: #D2E3FC;\n",
              "    }\n",
              "\n",
              "    [theme=dark] .colab-df-convert:hover {\n",
              "      background-color: #434B5C;\n",
              "      box-shadow: 0px 1px 3px 1px rgba(0, 0, 0, 0.15);\n",
              "      filter: drop-shadow(0px 1px 2px rgba(0, 0, 0, 0.3));\n",
              "      fill: #FFFFFF;\n",
              "    }\n",
              "  </style>\n",
              "\n",
              "      <script>\n",
              "        const buttonEl =\n",
              "          document.querySelector('#df-e6ff6de2-b271-4aa9-9a62-586b7fe2c7dd button.colab-df-convert');\n",
              "        buttonEl.style.display =\n",
              "          google.colab.kernel.accessAllowed ? 'block' : 'none';\n",
              "\n",
              "        async function convertToInteractive(key) {\n",
              "          const element = document.querySelector('#df-e6ff6de2-b271-4aa9-9a62-586b7fe2c7dd');\n",
              "          const dataTable =\n",
              "            await google.colab.kernel.invokeFunction('convertToInteractive',\n",
              "                                                     [key], {});\n",
              "          if (!dataTable) return;\n",
              "\n",
              "          const docLinkHtml = 'Like what you see? Visit the ' +\n",
              "            '<a target=\"_blank\" href=https://colab.research.google.com/notebooks/data_table.ipynb>data table notebook</a>'\n",
              "            + ' to learn more about interactive tables.';\n",
              "          element.innerHTML = '';\n",
              "          dataTable['output_type'] = 'display_data';\n",
              "          await google.colab.output.renderOutput(dataTable, element);\n",
              "          const docLink = document.createElement('div');\n",
              "          docLink.innerHTML = docLinkHtml;\n",
              "          element.appendChild(docLink);\n",
              "        }\n",
              "      </script>\n",
              "    </div>\n",
              "  </div>\n",
              "  "
            ],
            "text/plain": [
              "          date   BCI\n",
              "0  1999-Mar-01  1000\n",
              "1  1999-Mar-02  1009\n",
              "2  1999-Mar-03  1014\n",
              "3  1999-Mar-04  1013\n",
              "4  1999-Mar-05  1005"
            ]
          },
          "metadata": {},
          "execution_count": 2
        }
      ]
    },
    {
      "cell_type": "code",
      "metadata": {
        "colab": {
          "base_uri": "https://localhost:8080/",
          "height": 265
        },
        "id": "rEh2t730dAVR",
        "outputId": "13678a8d-f527-45f1-bd19-67fc8a6f9e8d"
      },
      "source": [
        "plt.plot(BCI['BCI'])\n",
        "plt.show()"
      ],
      "execution_count": 3,
      "outputs": [
        {
          "output_type": "display_data",
          "data": {
            "image/png": "[encoded data removed]",
            "text/plain": [
              "<Figure size 432x288 with 1 Axes>"
            ]
          },
          "metadata": {
            "needs_background": "light"
          }
        }
      ]
    },
    {
      "cell_type": "code",
      "metadata": {
        "colab": {
          "base_uri": "https://localhost:8080/",
          "height": 283
        },
        "id": "96jj5RjpdEnY",
        "outputId": "6a66d953-a3f7-4bf4-90c7-07768c5297c4"
      },
      "source": [
        "BCI = BCI.iloc[3000:,:]\n",
        "plt.plot(BCI['BCI'])\n",
        "plt.show()\n",
        "sc = MinMaxScaler()\n",
        "dt = sc.fit_transform(BCI.iloc[:,1:2])\n",
        "print(len(dt))"
      ],
      "execution_count": 4,
      "outputs": [
        {
          "output_type": "display_data",
          "data": {
            "image/png": "[encoded data removed]",
            "text/plain": [
              "<Figure size 432x288 with 1 Axes>"
            ]
          },
          "metadata": {
            "needs_background": "light"
          }
        },
        {
          "output_type": "stream",
          "name": "stdout",
          "text": [
            "793\n"
          ]
        }
      ]
    },
    {
      "cell_type": "code",
      "metadata": {
        "colab": {
          "base_uri": "https://localhost:8080/"
        },
        "id": "Dztq2DyVegB0",
        "outputId": "62d59ade-9050-4c63-a308-5f55324800ae"
      },
      "source": [
        "train_size= int(len(dt) * 0.67)\n",
        "test_size = len(dt) - train_size\n",
        "train = np.array(dt[0:train_size])\n",
        "test = np.array(dt[train_size:])\n",
        "print(len(train))\n",
        "print(len(test))"
      ],
      "execution_count": 5,
      "outputs": [
        {
          "output_type": "stream",
          "name": "stdout",
          "text": [
            "531\n",
            "262\n"
          ]
        }
      ]
    },
    {
      "cell_type": "code",
      "metadata": {
        "colab": {
          "base_uri": "https://localhost:8080/"
        },
        "id": "h6UY85ptei9Z",
        "outputId": "e114a072-39ae-442c-cabf-e5638e6a8db3"
      },
      "source": [
        "!pip install pmdarima\n",
        "import pmdarima as pm\n",
        "model = pm.auto_arima(train, error_action='ignore', trace=1,\n",
        "                      suppress_warnings=True,\n",
        "                      seasonal=True)"
      ],
      "execution_count": 8,
      "outputs": [
        {
          "output_type": "stream",
          "name": "stdout",
          "text": [
            "Collecting pmdarima\n",
            "  Downloading pmdarima-1.8.4-cp37-cp37m-manylinux_2_17_x86_64.manylinux2014_x86_64.manylinux_2_24_x86_64.whl (1.4 MB)\n",
            "\u001b[K     |████████████████████████████████| 1.4 MB 5.1 MB/s \n",
            "\u001b[?25hRequirement already satisfied: numpy>=1.19.3 in /usr/local/lib/python3.7/dist-packages (from pmdarima) (1.19.5)\n",
            "Requirement already satisfied: Cython!=0.29.18,>=0.29 in /usr/local/lib/python3.7/dist-packages (from pmdarima) (0.29.26)\n",
            "Requirement already satisfied: urllib3 in /usr/local/lib/python3.7/dist-packages (from pmdarima) (1.24.3)\n",
            "Requirement already satisfied: setuptools!=50.0.0,>=38.6.0 in /usr/local/lib/python3.7/dist-packages (from pmdarima) (57.4.0)\n",
            "Requirement already satisfied: joblib>=0.11 in /usr/local/lib/python3.7/dist-packages (from pmdarima) (1.1.0)\n",
            "Collecting statsmodels!=0.12.0,>=0.11\n",
            "  Downloading statsmodels-0.13.1-cp37-cp37m-manylinux_2_17_x86_64.manylinux2014_x86_64.whl (9.8 MB)\n",
            "\u001b[K     |████████████████████████████████| 9.8 MB 38.2 MB/s \n",
            "\u001b[?25hRequirement already satisfied: scikit-learn>=0.22 in /usr/local/lib/python3.7/dist-packages (from pmdarima) (1.0.2)\n",
            "Requirement already satisfied: pandas>=0.19 in /usr/local/lib/python3.7/dist-packages (from pmdarima) (1.1.5)\n",
            "Requirement already satisfied: scipy>=1.3.2 in /usr/local/lib/python3.7/dist-packages (from pmdarima) (1.4.1)\n",
            "Requirement already satisfied: pytz>=2017.2 in /usr/local/lib/python3.7/dist-packages (from pandas>=0.19->pmdarima) (2018.9)\n",
            "Requirement already satisfied: python-dateutil>=2.7.3 in /usr/local/lib/python3.7/dist-packages (from pandas>=0.19->pmdarima) (2.8.2)\n",
            "Requirement already satisfied: six>=1.5 in /usr/local/lib/python3.7/dist-packages (from python-dateutil>=2.7.3->pandas>=0.19->pmdarima) (1.15.0)\n",
            "Requirement already satisfied: threadpoolctl>=2.0.0 in /usr/local/lib/python3.7/dist-packages (from scikit-learn>=0.22->pmdarima) (3.0.0)\n",
            "Requirement already satisfied: patsy>=0.5.2 in /usr/local/lib/python3.7/dist-packages (from statsmodels!=0.12.0,>=0.11->pmdarima) (0.5.2)\n",
            "Installing collected packages: statsmodels, pmdarima\n",
            "  Attempting uninstall: statsmodels\n",
            "    Found existing installation: statsmodels 0.10.2\n",
            "    Uninstalling statsmodels-0.10.2:\n",
            "      Successfully uninstalled statsmodels-0.10.2\n",
            "Successfully installed pmdarima-1.8.4 statsmodels-0.13.1\n",
            "Performing stepwise search to minimize aic\n",
            " ARIMA(2,1,2)(0,0,0)[0] intercept   : AIC=-3021.413, Time=0.44 sec\n",
            " ARIMA(0,1,0)(0,0,0)[0] intercept   : AIC=-2722.828, Time=0.17 sec\n",
            " ARIMA(1,1,0)(0,0,0)[0] intercept   : AIC=-3011.580, Time=0.25 sec\n",
            " ARIMA(0,1,1)(0,0,0)[0] intercept   : AIC=-2957.453, Time=0.25 sec\n",
            " ARIMA(0,1,0)(0,0,0)[0]             : AIC=-2724.826, Time=0.08 sec\n",
            " ARIMA(1,1,2)(0,0,0)[0] intercept   : AIC=-3024.430, Time=0.43 sec\n",
            " ARIMA(0,1,2)(0,0,0)[0] intercept   : AIC=-3020.562, Time=0.43 sec\n",
            " ARIMA(1,1,1)(0,0,0)[0] intercept   : AIC=-3022.960, Time=0.52 sec\n",
            " ARIMA(1,1,3)(0,0,0)[0] intercept   : AIC=-3024.384, Time=0.28 sec\n",
            " ARIMA(0,1,3)(0,0,0)[0] intercept   : AIC=-3023.983, Time=0.87 sec\n",
            " ARIMA(2,1,1)(0,0,0)[0] intercept   : AIC=-3022.688, Time=0.15 sec\n",
            " ARIMA(2,1,3)(0,0,0)[0] intercept   : AIC=-3020.984, Time=1.47 sec\n",
            " ARIMA(1,1,2)(0,0,0)[0]             : AIC=-3026.295, Time=0.13 sec\n",
            " ARIMA(0,1,2)(0,0,0)[0]             : AIC=-3022.590, Time=0.20 sec\n",
            " ARIMA(1,1,1)(0,0,0)[0]             : AIC=-3024.959, Time=0.17 sec\n",
            " ARIMA(2,1,2)(0,0,0)[0]             : AIC=-3023.386, Time=0.16 sec\n",
            " ARIMA(1,1,3)(0,0,0)[0]             : AIC=-3026.388, Time=0.09 sec\n",
            " ARIMA(0,1,3)(0,0,0)[0]             : AIC=-3025.982, Time=0.25 sec\n",
            " ARIMA(2,1,3)(0,0,0)[0]             : AIC=-3022.973, Time=0.50 sec\n",
            " ARIMA(1,1,4)(0,0,0)[0]             : AIC=-3025.267, Time=0.36 sec\n",
            " ARIMA(0,1,4)(0,0,0)[0]             : AIC=-3024.206, Time=0.28 sec\n",
            " ARIMA(2,1,4)(0,0,0)[0]             : AIC=-3023.250, Time=0.44 sec\n",
            "\n",
            "Best model:  ARIMA(1,1,3)(0,0,0)[0]          \n",
            "Total fit time: 7.960 seconds\n"
          ]
        }
      ]
    },
    {
      "cell_type": "code",
      "metadata": {
        "colab": {
          "base_uri": "https://localhost:8080/"
        },
        "id": "TvbbtoakfzIc",
        "outputId": "5beb11e3-453f-4c6b-cc54-7783b2a55767"
      },
      "source": [
        "# Forecast\n",
        "n_periods = len(test)\n",
        "pred, confint = model.predict(n_periods=n_periods, return_conf_int=True)\n",
        "print(pred)"
      ],
      "execution_count": 9,
      "outputs": [
        {
          "output_type": "stream",
          "name": "stdout",
          "text": [
            "[0.051905   0.05075403 0.05068808 0.05063327 0.0505877  0.05054982\n",
            " 0.05051833 0.05049215 0.05047039 0.0504523  0.05043727 0.05042477\n",
            " 0.05041438 0.05040574 0.05039856 0.05039259 0.05038763 0.05038351\n",
            " 0.05038008 0.05037723 0.05037486 0.05037289 0.05037125 0.05036989\n",
            " 0.05036876 0.05036782 0.05036704 0.05036639 0.05036585 0.0503654\n",
            " 0.05036503 0.05036472 0.05036446 0.05036425 0.05036407 0.05036392\n",
            " 0.0503638  0.05036369 0.05036361 0.05036354 0.05036348 0.05036343\n",
            " 0.05036339 0.05036336 0.05036333 0.0503633  0.05036328 0.05036327\n",
            " 0.05036326 0.05036324 0.05036323 0.05036323 0.05036322 0.05036322\n",
            " 0.05036321 0.05036321 0.0503632  0.0503632  0.0503632  0.0503632\n",
            " 0.0503632  0.0503632  0.05036319 0.05036319 0.05036319 0.05036319\n",
            " 0.05036319 0.05036319 0.05036319 0.05036319 0.05036319 0.05036319\n",
            " 0.05036319 0.05036319 0.05036319 0.05036319 0.05036319 0.05036319\n",
            " 0.05036319 0.05036319 0.05036319 0.05036319 0.05036319 0.05036319\n",
            " 0.05036319 0.05036319 0.05036319 0.05036319 0.05036319 0.05036319\n",
            " 0.05036319 0.05036319 0.05036319 0.05036319 0.05036319 0.05036319\n",
            " 0.05036319 0.05036319 0.05036319 0.05036319 0.05036319 0.05036319\n",
            " 0.05036319 0.05036319 0.05036319 0.05036319 0.05036319 0.05036319\n",
            " 0.05036319 0.05036319 0.05036319 0.05036319 0.05036319 0.05036319\n",
            " 0.05036319 0.05036319 0.05036319 0.05036319 0.05036319 0.05036319\n",
            " 0.05036319 0.05036319 0.05036319 0.05036319 0.05036319 0.05036319\n",
            " 0.05036319 0.05036319 0.05036319 0.05036319 0.05036319 0.05036319\n",
            " 0.05036319 0.05036319 0.05036319 0.05036319 0.05036319 0.05036319\n",
            " 0.05036319 0.05036319 0.05036319 0.05036319 0.05036319 0.05036319\n",
            " 0.05036319 0.05036319 0.05036319 0.05036319 0.05036319 0.05036319\n",
            " 0.05036319 0.05036319 0.05036319 0.05036319 0.05036319 0.05036319\n",
            " 0.05036319 0.05036319 0.05036319 0.05036319 0.05036319 0.05036319\n",
            " 0.05036319 0.05036319 0.05036319 0.05036319 0.05036319 0.05036319\n",
            " 0.05036319 0.05036319 0.05036319 0.05036319 0.05036319 0.05036319\n",
            " 0.05036319 0.05036319 0.05036319 0.05036319 0.05036319 0.05036319\n",
            " 0.05036319 0.05036319 0.05036319 0.05036319 0.05036319 0.05036319\n",
            " 0.05036319 0.05036319 0.05036319 0.05036319 0.05036319 0.05036319\n",
            " 0.05036319 0.05036319 0.05036319 0.05036319 0.05036319 0.05036319\n",
            " 0.05036319 0.05036319 0.05036319 0.05036319 0.05036319 0.05036319\n",
            " 0.05036319 0.05036319 0.05036319 0.05036319 0.05036319 0.05036319\n",
            " 0.05036319 0.05036319 0.05036319 0.05036319 0.05036319 0.05036319\n",
            " 0.05036319 0.05036319 0.05036319 0.05036319 0.05036319 0.05036319\n",
            " 0.05036319 0.05036319 0.05036319 0.05036319 0.05036319 0.05036319\n",
            " 0.05036319 0.05036319 0.05036319 0.05036319 0.05036319 0.05036319\n",
            " 0.05036319 0.05036319 0.05036319 0.05036319 0.05036319 0.05036319\n",
            " 0.05036319 0.05036319 0.05036319 0.05036319 0.05036319 0.05036319\n",
            " 0.05036319 0.05036319 0.05036319 0.05036319 0.05036319 0.05036319\n",
            " 0.05036319 0.05036319 0.05036319 0.05036319 0.05036319 0.05036319\n",
            " 0.05036319 0.05036319 0.05036319 0.05036319]\n"
          ]
        }
      ]
    },
    {
      "cell_type": "code",
      "metadata": {
        "colab": {
          "base_uri": "https://localhost:8080/",
          "height": 294
        },
        "id": "T72KII4HfzM3",
        "outputId": "9257f7df-791e-453e-8704-723111a0d03d"
      },
      "source": [
        "pred = pd.concat([pd.DataFrame(train),pd.DataFrame(pred)])\n",
        "real = pd.concat([pd.DataFrame(train),pd.DataFrame(test)])\n",
        "data_predict = pred.values\n",
        "data_predict = sc.inverse_transform(data_predict)\n",
        "real = sc.inverse_transform(real.values)\n",
        "\n",
        "plt.axvline(x=train_size, c='r', linestyle='--')\n",
        "\n",
        "plt.plot(real)\n",
        "plt.plot(data_predict)\n",
        "plt.suptitle('Time-Series Prediction')\n",
        "plt.show()"
      ],
      "execution_count": 10,
      "outputs": [
        {
          "output_type": "display_data",
          "data": {
            "image/png": "[encoded data removed]",
            "text/plain": [
              "<Figure size 432x288 with 1 Axes>"
            ]
          },
          "metadata": {
            "needs_background": "light"
          }
        }
      ]
    },
    {
      "cell_type": "code",
      "metadata": {
        "id": "4Xss5fXxvdss"
      },
      "source": [
        "def MSE(y,t) :\n",
        "  return 0.5*np.sum((y-t)**2)"
      ],
      "execution_count": 11,
      "outputs": []
    },
    {
      "cell_type": "code",
      "metadata": {
        "colab": {
          "base_uri": "https://localhost:8080/"
        },
        "id": "VWGvrReMrpqr",
        "outputId": "fdf8d8c7-3c9e-46b5-c93f-5587171c8e6d"
      },
      "source": [
        "MSE(pred,real)"
      ],
      "execution_count": 12,
      "outputs": [
        {
          "output_type": "execute_result",
          "data": {
            "text/plain": [
              "0    1.841699e+09\n",
              "dtype: float64"
            ]
          },
          "metadata": {},
          "execution_count": 12
        }
      ]
    },
    {
      "cell_type": "code",
      "metadata": {
        "id": "fzJAXY-WfzXL"
      },
      "source": [
        "dt = BCI.iloc[:,1:2].values"
      ],
      "execution_count": 13,
      "outputs": []
    },
    {
      "cell_type": "code",
      "metadata": {
        "id": "UORhrnvtfzaX"
      },
      "source": [
        "def sliding_windows(data, seq_length):\n",
        "    x = []\n",
        "    y = []\n",
        "\n",
        "    for i in range(len(data)-seq_length-1):\n",
        "        _x = data[i:(i+seq_length)]\n",
        "        _y = data[i+seq_length]\n",
        "        x.append(_x)\n",
        "        y.append(_y)\n",
        "\n",
        "    return np.array(x),np.array(y)"
      ],
      "execution_count": 14,
      "outputs": []
    },
    {
      "cell_type": "code",
      "metadata": {
        "id": "wQrwPoydl33C"
      },
      "source": [
        "sc = MinMaxScaler()\n",
        "dt = sc.fit_transform(dt)\n",
        "\n",
        "seq_length = 90\n",
        "x, y = sliding_windows(dt, seq_length)\n",
        "\n",
        "train_size = int(len(y) * 0.67)\n",
        "test_size = len(y) - train_size\n",
        "\n",
        "dataX = Variable(torch.Tensor(np.array(x)))\n",
        "dataY = Variable(torch.Tensor(np.array(y)))\n",
        "\n",
        "trainX = Variable(torch.Tensor(np.array(x[0:train_size])))\n",
        "trainY = Variable(torch.Tensor(np.array(y[0:train_size])))\n",
        "\n",
        "testX = Variable(torch.Tensor(np.array(x[train_size:len(x)])))\n",
        "testY = Variable(torch.Tensor(np.array(y[train_size:len(y)])))"
      ],
      "execution_count": 15,
      "outputs": []
    },
    {
      "cell_type": "code",
      "metadata": {
        "id": "WpzIOAq7l7jg"
      },
      "source": [
        "class LSTM(nn.Module):\n",
        "\n",
        "    def __init__(self, output, input_size, hidden_size, num_layers):\n",
        "        super(LSTM, self).__init__()\n",
        "        \n",
        "        self.output = output\n",
        "        self.num_layers = num_layers\n",
        "        self.input_size = input_size\n",
        "        self.hidden_size = hidden_size\n",
        "        self.seq_length = seq_length\n",
        "        \n",
        "        self.lstm = nn.LSTM(input_size=input_size, hidden_size=hidden_size,\n",
        "                            num_layers=num_layers, batch_first=True)\n",
        "        \n",
        "        self.fc = nn.Linear(hidden_size, output)\n",
        "\n",
        "    def forward(self, x):\n",
        "        h_0 = Variable(torch.zeros(\n",
        "            self.num_layers, x.size(0), self.hidden_size))\n",
        "        \n",
        "        c_0 = Variable(torch.zeros(\n",
        "            self.num_layers, x.size(0), self.hidden_size))\n",
        "        \n",
        "        # Propagate input through LSTM\n",
        "        ula, (h_out, _) = self.lstm(x, (h_0, c_0))\n",
        "        \n",
        "        h_out = h_out.view(-1, self.hidden_size)\n",
        "        \n",
        "        out = self.fc(h_out)\n",
        "        \n",
        "        return out"
      ],
      "execution_count": 16,
      "outputs": []
    },
    {
      "cell_type": "code",
      "metadata": {
        "colab": {
          "base_uri": "https://localhost:8080/"
        },
        "id": "V1T6XS6PmDOj",
        "outputId": "d630b707-b5ec-4eeb-928b-9860d904a737"
      },
      "source": [
        "num_epochs = 2000\n",
        "learning_rate = 0.02\n",
        "\n",
        "input_size = 1\n",
        "hidden_size = 2\n",
        "num_layers = 1\n",
        "output = 1\n",
        "\n",
        "lstm = LSTM(output, input_size, hidden_size, num_layers)\n",
        "\n",
        "criterion = torch.nn.MSELoss()    # mean-squared error for regression\n",
        "optimizer = torch.optim.Adam(lstm.parameters(), lr=learning_rate)\n",
        "\n",
        "# Train the model\n",
        "for epoch in range(num_epochs):\n",
        "    outputs = lstm(trainX)\n",
        "    optimizer.zero_grad()\n",
        "    \n",
        "    # obtain the loss function\n",
        "    loss = criterion(outputs, trainY)\n",
        "    \n",
        "    loss.backward()\n",
        "    \n",
        "    optimizer.step()\n",
        "    if epoch % 100 == 0:\n",
        "      print(\"Epoch: %d, loss: %1.5f\" % (epoch, loss.item()))"
      ],
      "execution_count": 17,
      "outputs": [
        {
          "output_type": "stream",
          "name": "stdout",
          "text": [
            "Epoch: 0, loss: 0.15692\n",
            "Epoch: 100, loss: 0.00111\n",
            "Epoch: 200, loss: 0.00067\n",
            "Epoch: 300, loss: 0.00047\n",
            "Epoch: 400, loss: 0.00036\n",
            "Epoch: 500, loss: 0.00032\n",
            "Epoch: 600, loss: 0.00028\n",
            "Epoch: 700, loss: 0.00026\n",
            "Epoch: 800, loss: 0.00024\n",
            "Epoch: 900, loss: 0.00023\n",
            "Epoch: 1000, loss: 0.00022\n",
            "Epoch: 1100, loss: 0.00021\n",
            "Epoch: 1200, loss: 0.00020\n",
            "Epoch: 1300, loss: 0.00020\n",
            "Epoch: 1400, loss: 0.00020\n",
            "Epoch: 1500, loss: 0.00020\n",
            "Epoch: 1600, loss: 0.00020\n",
            "Epoch: 1700, loss: 0.00019\n",
            "Epoch: 1800, loss: 0.00019\n",
            "Epoch: 1900, loss: 0.00019\n"
          ]
        }
      ]
    },
    {
      "cell_type": "code",
      "metadata": {
        "colab": {
          "base_uri": "https://localhost:8080/",
          "height": 294
        },
        "id": "oT8lKYLzmDSi",
        "outputId": "aaac3394-43d7-497f-babd-64d2884838ff"
      },
      "source": [
        "lstm.eval()\n",
        "train_predict = lstm(dataX)\n",
        "\n",
        "data_predict = train_predict.data.numpy()\n",
        "dataY_plot = dataY.data.numpy()\n",
        "\n",
        "data_predict = sc.inverse_transform(data_predict)\n",
        "dataY_plot = sc.inverse_transform(dataY_plot)\n",
        "\n",
        "plt.axvline(x=train_size, c='r', linestyle='--')\n",
        "\n",
        "plt.plot(dataY_plot)\n",
        "plt.plot(data_predict)\n",
        "plt.suptitle('Time-Series Prediction')\n",
        "plt.show()"
      ],
      "execution_count": 18,
      "outputs": [
        {
          "output_type": "display_data",
          "data": {
            "image/png": "[encoded data removed]",
            "text/plain": [
              "<Figure size 432x288 with 1 Axes>"
            ]
          },
          "metadata": {
            "needs_background": "light"
          }
        }
      ]
    },
    {
      "cell_type": "code",
      "metadata": {
        "colab": {
          "base_uri": "https://localhost:8080/"
        },
        "id": "TN_fNdWhs_2G",
        "outputId": "7fd620bf-480f-4ebb-c4e3-5c08834ea3df"
      },
      "source": [
        "#LSTM MSE\n",
        "MSE(data_predict,dataY_plot)"
      ],
      "execution_count": 19,
      "outputs": [
        {
          "output_type": "execute_result",
          "data": {
            "text/plain": [
              "1461213.0"
            ]
          },
          "metadata": {},
          "execution_count": 19
        }
      ]
    }
  ]
}